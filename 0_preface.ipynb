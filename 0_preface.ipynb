{
 "cells": [
  {
   "cell_type": "markdown",
   "metadata": {},
   "source": [
    "# Why this book? \n",
    "\n",
    "**Introduction**\n",
    "\n",
    "This is a short book that serves as a primer to data structures and algorithms. It's written to be an educational resource for people wanting to learn more about computer science, while also acting as an introduction or refresher to software engineering interviews.\n",
    "\n",
    "**Learning Objectives**\n",
    "- **This book is concise:** This book aims to concisely build you the foundations you need, without diving too deeply into anything. It's meant to be a strong introduction.\n",
    "\n",
    "- **This book sits in between theory and practice:** This book discusses theory but only as much as needed to develop intuition and feel for what's happening under the hood. This also isn't a workbook of exhaustive practice problems, yet it does heavily utilize them to introduce and teach concepts. \n",
    "  \n",
    "- **This book tries NOT to be language agnostic:** This book believes in building programming fluency in your language of choice (in our case, it's python). This means getting familiar and leaning into what python as a language brings to the table. With that being said, the underlying concepts are universal.\n",
    "  \n",
    "- **This book cares about software engineering:** This book emphasizes writing code for people outside of your present self such as your coworkers and most importantly, your future self. It tries to structure code that is well designed, named, modular, documented, benchmarked, tested, and debuggable. \n",
    "\n",
    "**Conclusion**\n",
    "\n",
    "There are other better resources if you're looking for more theory, or more practice, or more language agnosticism, or is less engineer-y and more competitive programmer-y. Whatever you choose, the key is to just dive in with the practice! That's why this book is designed to be short. It is to slowly nudge you towards practice. \n",
    "\n",
    "# About the author\n",
    "I did my undergraduate studies in computer science, and later took up some graduate coursework. I am by no means an expert, so mistakes can happen. I'll appreciate any feedback from the community. Writing this book is as much of a learning experience for me as reading it may be for you."
   ]
  }
 ],
 "metadata": {
  "language_info": {
   "name": "python"
  }
 },
 "nbformat": 4,
 "nbformat_minor": 2
}
