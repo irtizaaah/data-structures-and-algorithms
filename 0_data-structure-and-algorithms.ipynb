{
 "cells": [
  {
   "cell_type": "markdown",
   "metadata": {},
   "source": [
    "# Data Structures and Algorithms\n",
    "\n",
    "Imagine you tried to bake cake. If you knew nothing about baking cakes, then you would benefit from following a recipe. The act of you following a set of instructions to reach a goal is you executing an algorithm. Some recipes may require less time than others. Some recipes you find online may just be plain wrong. Thus, algorithms need to be both correct and efficient.\n",
    "\n",
    "Let's say you and your friend have decided to bake a cake seperately. You decided to organize the ingredients in your recipe in a line, while your friend put them all in a giant pile. Although both of you are using the same recipe, you have an easier time finding what you need and end up finishing your cake faster. What way we decide to organize our things makes an impact how efficiently we can work. This is the same for how data is structured when our computers are carrying out its algorithms.\n",
    "\n",
    "Data structures and algorithms are two fundemental concepts in computer science that work together to help solve problems as efficiently as possible.\n",
    "- Data structures organize your data such that it can be accessed and processed as efficiently as possible. \n",
    "- Algorithms provide steps that can be followed to reach a particular goal. "
   ]
  }
 ],
 "metadata": {
  "language_info": {
   "name": "python"
  }
 },
 "nbformat": 4,
 "nbformat_minor": 2
}
